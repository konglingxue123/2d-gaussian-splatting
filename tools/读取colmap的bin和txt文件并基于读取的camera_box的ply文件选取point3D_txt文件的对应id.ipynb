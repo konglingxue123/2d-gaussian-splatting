{
 "cells": [
  {
   "cell_type": "code",
   "execution_count": 4,
   "metadata": {},
   "outputs": [
    {
     "name": "stdout",
     "output_type": "stream",
     "text": [
      "Jupyter environment detected. Enabling Open3D WebVisualizer.\n",
      "[Open3D INFO] WebRTC GUI backend enabled.\n",
      "[Open3D INFO] WebRTCWindowSystem: HTTP handshake server disabled.\n"
     ]
    }
   ],
   "source": [
    "# 读取colmap的bin文件\n",
    "import numpy as np\n",
    "import struct\n",
    "# 设置工作路径\n",
    "import os\n",
    "os.chdir('/home/ubunto/Project/konglx/pcd/2dgs/2d-gaussian-splatting-main/')\n",
    "\n",
    "import open3d as o3d"
   ]
  },
  {
   "cell_type": "markdown",
   "metadata": {},
   "source": [
    "## 读取txt文件"
   ]
  },
  {
   "cell_type": "code",
   "execution_count": 6,
   "metadata": {},
   "outputs": [],
   "source": [
    "cameras_txt_dir = '/home/ubunto/Project/konglx/pcd/2dgs/2d-gaussian-splatting-main/datasets/dalian_xinghaiwandaqiao_video_input_rgb__camera_box/colmap_text/cameras.txt'\n",
    "images_txt_dir = '/home/ubunto/Project/konglx/pcd/2dgs/2d-gaussian-splatting-main/datasets/dalian_xinghaiwandaqiao_video_input_rgb__camera_box/colmap_text/images.txt'\n",
    "points3D_txt_dir = '/home/ubunto/Project/konglx/pcd/2dgs/2d-gaussian-splatting-main/datasets/dalian_xinghaiwandaqiao_video_input_rgb__camera_box/colmap_text/points3D.txt'\n",
    "\n",
    "from scene.colmap_loader import read_points3D_text, read_intrinsics_text, read_extrinsics_text\n",
    "xyzs, rgbs, errors = read_points3D_text(points3D_txt_dir)\n",
    "cameras = read_intrinsics_text(cameras_txt_dir)\n",
    "images = read_extrinsics_text(images_txt_dir)\n",
    "# np.unique(images[1].point3D_ids).shape"
   ]
  },
  {
   "cell_type": "code",
   "execution_count": 7,
   "metadata": {},
   "outputs": [],
   "source": [
    "# 查看xyzs_DBSCAN在xyzs中的id\n",
    "# xyzs_DBSCAN\n",
    "# 构建元素到索引的字典\n",
    "def get_element_to_index(xyzs, rgbs, xyzs_selected) ->tuple[np.ndarray, np.ndarray]:\n",
    "    element_to_index = {tuple(row): idx for idx, row in enumerate(xyzs)}\n",
    "\n",
    "    # 生成数组c\n",
    "    ids = np.array([element_to_index[tuple(row)] for row in xyzs_selected])\n",
    "\n",
    "    # 输出c的shape\n",
    "    # print(\"c.shape =\", c.shape)\n",
    "    # print(\"c =\", c)  # 输出：c = [2 0 1]\n",
    "    rgbs_selected = np.array([rgbs[i] for i in ids])\n",
    "    # print(\"color_after_DBSCAN.shape =\", color_after_DBSCAN.shape)\n",
    "    return ids, rgbs_selected\n"
   ]
  },
  {
   "cell_type": "code",
   "execution_count": 8,
   "metadata": {},
   "outputs": [],
   "source": [
    "def read_xyzs_and_rgbs_from_points3D_save_txt(xyzs, rgbs, save_dir = 'txt_files', file_name='xyz_rgb.txt'):\n",
    "    os.makedirs(save_dir, exist_ok=True)\n",
    "    with open(os.path.join(save_dir, file_name), 'w') as f:\n",
    "        for i in range(xyzs.shape[0]):\n",
    "            f.write('{} {} {} {} {} {}\\n'.format(xyzs[i, 0], xyzs[i, 1], xyzs[i, 2], int(rgbs[i, 0]), int(rgbs[i, 1]), int(rgbs[i, 2])))\n",
    "    print('saved to :', os.path.join(save_dir, file_name))"
   ]
  },
  {
   "cell_type": "markdown",
   "metadata": {},
   "source": [
    "#### 用此可视化，保存xyzrgb的txt，可用meshlab打开查看"
   ]
  },
  {
   "cell_type": "code",
   "execution_count": 9,
   "metadata": {},
   "outputs": [
    {
     "data": {
      "text/plain": [
       "(57, 3)"
      ]
     },
     "execution_count": 9,
     "metadata": {},
     "output_type": "execute_result"
    }
   ],
   "source": [
    "## 读取transforms.json文件，提取相机的世界坐标系与外参(用于基于相机坐标，缩小点的范围)\n",
    "import json\n",
    "import numpy as np\n",
    "\n",
    "json_dir = '/home/ubunto/Project/konglx/pcd/2dgs/2d-gaussian-splatting-main/datasets/dalian_xinghaiwandaqiao_video_input_rgb__camera_box/transforms.json'\n",
    "\n",
    "def get_world_coords_for_cam_centers(json_dir):# 读取json文件\n",
    "    with open(json_dir, 'r') as f:\n",
    "        data = json.load(f)\n",
    "\n",
    "    extrinsics_list = []\n",
    "    frames_data = data['frames']\n",
    "    for frame in frames_data:\n",
    "        R = np.array(frame['R'])\n",
    "        t = np.array(frame['t'])\n",
    "        # 转置 t 并调整为列向量（3x1），然后与 r 水平拼接\n",
    "        top = np.hstack([R, t.reshape(3, 1)])  # 3x4\n",
    "\n",
    "        # 创建最后一行 [0,0,0,1]\n",
    "        bottom = np.array([[0, 0, 0, 1]])\n",
    "\n",
    "        # 垂直拼接生成 4x4 矩阵\n",
    "        extrinsics = np.vstack([top, bottom])\n",
    "        extrinsics_list.append(extrinsics)\n",
    "    return np.asarray(extrinsics_list)\n",
    "\n",
    "\n",
    "extrinsics_camera = get_world_coords_for_cam_centers(json_dir=json_dir)\n",
    "R_cameras = extrinsics_camera[:, :3, :3]\n",
    "T_cameras = extrinsics_camera[:, :3, 3]\n",
    "camera_center_coords = -(R_cameras.transpose(0,2,1) @ T_cameras[..., np.newaxis]).squeeze(-1)  # 世界坐标系下深度为0的点, 即，中心点\n",
    "camera_center_coords.shape"
   ]
  },
  {
   "cell_type": "code",
   "execution_count": 91,
   "metadata": {},
   "outputs": [],
   "source": [
    "def keep_and_remove_points_org_green(a, b, a_org_rgb=None, save_dir = None, file_name=None):\n",
    "    '''\n",
    "    a为所有点，b为相机坐标点，a_org_rgb为原始点云的rgb值，需要基于去除a噪点后，重新排布a的rgb颜色\n",
    "    '''\n",
    "    # 计算b的轴对齐包围盒范围\n",
    "    min_vals = np.min(b, axis=0)\n",
    "    max_vals = np.max(b, axis=0)\n",
    "    min_x, min_y, min_z = min_vals\n",
    "    max_x, max_y, max_z = max_vals\n",
    "    \n",
    "    min_xyz = np.min(min_vals)\n",
    "    max_xyz = np.max(max_vals)\n",
    "    print('min_xyz:', min_xyz,'max_xyz:', max_xyz)\n",
    "\n",
    "    # 过滤a的点：保留范围内的点，移除范围外的点\n",
    "    # mask_a = (\n",
    "    #     (a[:, 0] >= min_x) & (a[:, 0] <= max_x) &\n",
    "    #     (a[:, 1] >= min_y) & (a[:, 1] <= max_y) &\n",
    "    #     (a[:, 2] >= min_z) & (a[:, 2] <= max_z)\n",
    "    # )\n",
    "    mask_a = (\n",
    "        (a[:, 0] >= min_xyz) & (a[:, 0] <= max_xyz) &\n",
    "        (a[:, 1] >= min_xyz) & (a[:, 1] <= max_xyz) &\n",
    "        (a[:, 2] >= min_xyz) & (a[:, 2] <= max_xyz)\n",
    "    )\n",
    "    a_inside = a[mask_a]    # a中的保留点\n",
    "    a_outside = a[~mask_a]  # a中的移除点\n",
    "\n",
    "    # b的所有点均会被保留（因为包围盒由b生成）\n",
    "    b_inside = b  # b中所有点均在包围盒内\n",
    "\n",
    "    ids, a_rgbs_selected = get_element_to_index(a, a_org_rgb, a_inside)\n",
    "    # 合并保留的点（红色）和移除的点（蓝色）\n",
    "    combined_inside = np.vstack([a_inside, b_inside])  # 保留的点\n",
    "    # print('combined_inside.shape:', combined_inside.shape)\n",
    "\n",
    "    # print('a_org_rgb.shape:', a_org_rgb.shape)\n",
    "    # red_colors = np.tile([1, 0, 0], (combined_inside.shape[0], 1))  # 红色：保留点\n",
    "    org_colors = (a_org_rgb[ids]) / 255.0  # 原始点云的rgb值\n",
    "    # print('org_colors.shape:', org_colors.shape)\n",
    "    \n",
    "    magenta_colors = np.tile([1, 0, 1], (b_inside.shape[0], 1))\n",
    "    combined_inside_colors = np.vstack([org_colors, magenta_colors])  # 合并的点的rgb值\n",
    "    blue_colors = np.tile([0, 0.5, 0], (a_outside.shape[0], 1))        # 绿色：移除点\n",
    "\n",
    "    # 创建点云对象并设置颜色\n",
    "    pcd_inside = o3d.geometry.PointCloud()\n",
    "    pcd_inside.points = o3d.utility.Vector3dVector(combined_inside)\n",
    "    pcd_inside.colors = o3d.utility.Vector3dVector(combined_inside_colors)\n",
    "\n",
    "    pcd_outside = o3d.geometry.PointCloud()\n",
    "    pcd_outside.points = o3d.utility.Vector3dVector(a_outside)\n",
    "    pcd_outside.colors = o3d.utility.Vector3dVector(blue_colors)\n",
    "\n",
    "    point_all = np.vstack([combined_inside, a_outside])\n",
    "    color_all = np.vstack([combined_inside_colors, blue_colors])\n",
    "    \n",
    "    point_selected = a_inside\n",
    "    color_selected = a_rgbs_selected\n",
    "    # 创建包围盒线框模型\n",
    "    # vertices = np.array([\n",
    "    #     [min_x, min_y, min_z], [max_x, min_y, min_z],\n",
    "    #     [max_x, max_y, min_z], [min_x, max_y, min_z],\n",
    "    #     [min_x, min_y, max_z], [max_x, min_y, max_z],\n",
    "    #     [max_x, max_y, max_z], [min_x, max_y, max_z]\n",
    "    # ])\n",
    "    vertices = np.array([\n",
    "        [min_xyz, min_xyz, min_xyz], [max_xyz, min_xyz, min_xyz],\n",
    "        [max_xyz, max_xyz, min_xyz], [min_xyz, max_xyz, min_xyz],\n",
    "        [min_xyz, min_xyz, max_xyz], [max_xyz, min_xyz, max_xyz],\n",
    "        [max_xyz, max_xyz, max_xyz], [min_xyz, max_xyz, max_xyz]\n",
    "    ])\n",
    "    lines = [[0,1], [1,2], [2,3], [3,0], [4,5], [5,6], [6,7], [7,4], [0,4], [1,5], [2,6], [3,7]]\n",
    "    line_set = o3d.geometry.LineSet(\n",
    "        points=o3d.utility.Vector3dVector(vertices),\n",
    "        lines=o3d.utility.Vector2iVector(lines)\n",
    "    )\n",
    "    line_set.paint_uniform_color([1, 0, 0])  # 红色包围盒边框\n",
    "    print('box内部的点个数：', a_inside.shape[0], org_colors.shape[0], org_colors[0], org_colors[1])\n",
    "    # 可视化展示\n",
    "    # 设置黑色背景\n",
    "    vis = o3d.visualization.Visualizer()\n",
    "    vis.create_window(window_name='3D Viewer', width=1280, height=720, left=0, top=0)\n",
    "    # 设置点的大小\n",
    "    vis.get_render_option().point_size = 2.0\n",
    "    vis.add_geometry(pcd_inside)\n",
    "    vis.add_geometry(pcd_outside)\n",
    "    vis.add_geometry(line_set)\n",
    "    \n",
    "    # 设置颜色\n",
    "\n",
    "    vis.get_render_option().background_color = np.array([0, 0, 0])  # 设置黑色背景\n",
    "    vis.run()\n",
    "    vis.destroy_window()\n",
    "\n",
    "    # 展示  \n",
    "    # o3d.visualization.draw_geometries([pcd_inside, pcd_outside, line_set])\n",
    "    \n",
    "    # 是否存储\n",
    "    if save_dir and file_name is not None:\n",
    "        # 展示用\n",
    "        read_xyzs_and_rgbs_from_points3D_save_txt(combined_inside, combined_inside_colors, save_dir=save_dir, file_name=file_name)\n",
    "        # open3d存储[pcd_inside, pcd_outside, line_set]\n",
    "        read_xyzs_and_rgbs_from_points3D_save_txt(point_all, color_all, save_dir=save_dir, file_name=file_name.split('.')[0]+'_all.txt')\n",
    "        # o3d.io.write_point_cloud(os.path.join(save_dir, file_name.split('.')[0]+'.ply'), pcd_all)\n",
    "        read_xyzs_and_rgbs_from_points3D_save_txt(point_selected, color_selected, save_dir=save_dir, file_name=file_name.split('.')[0]+'_selected.txt')\n",
    "    else:\n",
    "        print('Not save the txt file.')\n",
    "    list_xyz_min_max = [min_x, max_x, min_y, max_y, min_z, max_z]\n",
    "    return point_selected, color_selected, min_xyz, max_xyz, vertices, list_xyz_min_max, ids"
   ]
  },
  {
   "cell_type": "code",
   "execution_count": null,
   "metadata": {},
   "outputs": [],
   "source": [
    "save_dir = '/home/ubunto/Project/konglx/pcd/2dgs/2d-gaussian-splatting-main/datasets/dalian_xinghaiwandaqiao_video_input_rgb__camera_box/colmap_text'\n",
    "file_name = 'camera_box_selected_xyz_rgb.txt'\n",
    "outputs_tuple = keep_and_remove_points_org_green(a=xyzs, b = camera_center_coords, a_org_rgb=rgbs, \\\n",
    "    save_dir=save_dir, file_name=file_name)"
   ]
  },
  {
   "cell_type": "code",
   "execution_count": 60,
   "metadata": {},
   "outputs": [
    {
     "name": "stdout",
     "output_type": "stream",
     "text": [
      "boxed len(ids_boxed):\n",
      "20873\n",
      "[    0     1     2 ... 32809 32811 32812]\n"
     ]
    }
   ],
   "source": [
    "ids_boxed = outputs_tuple[-1]\n",
    "print('boxed len(ids_boxed):', len(ids_boxed), ids_boxed, sep='\\n')\n",
    "\n",
    "# 在colmap生成的point3D.txt文件中根据ids选取对应的行\n",
    "def read_points3d_txt_select_as_ids_to_new_points3d_txt(points3D_txt_dir, ids):\n",
    "    with open(points3D_txt_dir, 'r') as f:\n",
    "        f_list = f.readlines()\n",
    "        f_new_list = []\n",
    "        # f_new_list_compared = []\n",
    "        for id in ids.tolist():\n",
    "            for f_line in f_list:\n",
    "                if f_line.split()[0] == str(id):\n",
    "                    f_new_list.append(f_line)\n",
    "            # f_new_list.append(f_list[id+3])\n",
    "            # f_new_list_compared.append(f'{id} {f_list[id+2]}')\n",
    "    return f_new_list#, f_new_list_compared"
   ]
  },
  {
   "cell_type": "code",
   "execution_count": 55,
   "metadata": {},
   "outputs": [
    {
     "name": "stdout",
     "output_type": "stream",
     "text": [
      "Camera poses boxed and saved to: /home/ubunto/Project/konglx/pcd/2dgs/2d-gaussian-splatting-main/datasets/dalian_xinghaiwandaqiao_video_input_rgb__camera_box/colmap_text/points3D_select.txt\n"
     ]
    }
   ],
   "source": [
    "points3D_txt_dir = '/home/ubunto/Project/konglx/pcd/2dgs/2d-gaussian-splatting-main/datasets/dalian_xinghaiwandaqiao_video_input_rgb__camera_box/colmap_text/points3D.txt'\n",
    "save_dir = os.path.join(os.path.dirname(points3D_txt_dir), 'points3D_select.txt')\n",
    "\n",
    "# boxed_list = read_points3d_txt_select_as_ids_to_new_points3d_txt(points3D_txt_dir=points3D_txt_dir, ids=ids_boxed)\n",
    "\n",
    "# with open(save_dir, 'w') as f_new:\n",
    "#     f_new.write(''.join(boxed_list))\n",
    "# print('Camera poses boxed and saved to:', save_dir)"
   ]
  },
  {
   "cell_type": "code",
   "execution_count": 70,
   "metadata": {},
   "outputs": [],
   "source": [
    "with open(points3D_txt_dir, \"r\") as fid:\n",
    "    lines = fid.readlines()"
   ]
  },
  {
   "cell_type": "code",
   "execution_count": 75,
   "metadata": {},
   "outputs": [
    {
     "data": {
      "text/plain": [
       "'2.6844834692200816'"
      ]
     },
     "execution_count": 75,
     "metadata": {},
     "output_type": "execute_result"
    }
   ],
   "source": [
    "lines[3].split()[1]"
   ]
  },
  {
   "cell_type": "code",
   "execution_count": 82,
   "metadata": {},
   "outputs": [],
   "source": [
    "def use_boxed_xyzs_to_select_from_points3D_txt(points3D_txt_list:list, xyzs:np.array)->list:\n",
    "\n",
    "    boxed_xyzs = []\n",
    "    for x in xyzs:\n",
    "        x_str = str(x[0].tolist())\n",
    "        for line in points3D_txt_list:\n",
    "            if x_str[:-3] in line.split()[1]:\n",
    "                boxed_xyzs.append(line)\n",
    "                # break\n",
    "            else:\n",
    "                continue\n",
    "    return boxed_xyzs\n",
    "\n"
   ]
  },
  {
   "cell_type": "code",
   "execution_count": 83,
   "metadata": {},
   "outputs": [],
   "source": [
    "boxed_xyzs = use_boxed_xyzs_to_select_from_points3D_txt(points3D_txt_list=lines, xyzs=xyz_point_boxed )"
   ]
  },
  {
   "cell_type": "code",
   "execution_count": 87,
   "metadata": {},
   "outputs": [
    {
     "name": "stdout",
     "output_type": "stream",
     "text": [
      "22908 20873\n"
     ]
    }
   ],
   "source": [
    "print(len(boxed_xyzs), len(set(boxed_xyzs)))\n",
    "boxed_xyzs_list = list(set(boxed_xyzs))"
   ]
  },
  {
   "cell_type": "code",
   "execution_count": 88,
   "metadata": {},
   "outputs": [
    {
     "name": "stdout",
     "output_type": "stream",
     "text": [
      "Camera poses boxed and saved to: /home/ubunto/Project/konglx/pcd/2dgs/2d-gaussian-splatting-main/datasets/dalian_xinghaiwandaqiao_video_input_rgb__camera_box/colmap_text/points3D_select.txt\n"
     ]
    }
   ],
   "source": [
    "with open(save_dir, 'w') as f_new:\n",
    "    f_new.write(''.join(boxed_xyzs_list))\n",
    "print('Camera poses boxed and saved to:', save_dir)"
   ]
  }
 ],
 "metadata": {
  "kernelspec": {
   "display_name": "3dgs_new",
   "language": "python",
   "name": "python3"
  },
  "language_info": {
   "codemirror_mode": {
    "name": "ipython",
    "version": 3
   },
   "file_extension": ".py",
   "mimetype": "text/x-python",
   "name": "python",
   "nbconvert_exporter": "python",
   "pygments_lexer": "ipython3",
   "version": "3.9.0"
  }
 },
 "nbformat": 4,
 "nbformat_minor": 2
}
