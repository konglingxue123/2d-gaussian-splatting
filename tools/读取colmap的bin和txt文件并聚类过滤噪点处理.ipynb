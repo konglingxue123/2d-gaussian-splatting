{
 "cells": [
  {
   "cell_type": "code",
   "execution_count": 1,
   "metadata": {},
   "outputs": [],
   "source": [
    "# 读取colmap的bin文件\n",
    "import numpy as np\n",
    "import struct\n",
    "# 设置工作路径\n",
    "import os\n",
    "os.chdir('/home/ubunto/Project/konglx/pcd/2dgs/2d-gaussian-splatting-main/')\n",
    "\n",
    " "
   ]
  },
  {
   "cell_type": "markdown",
   "metadata": {},
   "source": [
    "## 读取bin文件"
   ]
  },
  {
   "cell_type": "code",
   "execution_count": 2,
   "metadata": {},
   "outputs": [],
   "source": [
    "# cameras_bin_dir = '/home/ubunto/Project/konglx/pcd/2dgs/2d-gaussian-splatting-main/datasets/dalian_xinghaiwandaqiao_video_input_rgba/colmap_sparse/0/cameras.bin'\n",
    "# images_bin_dir = '/home/ubunto/Project/konglx/pcd/2dgs/2d-gaussian-splatting-main/datasets/dalian_xinghaiwandaqiao_video_input_rgba/colmap_sparse/0/images.bin'\n",
    "# points3D_bin_dir = '/home/ubunto/Project/konglx/pcd/2dgs/2d-gaussian-splatting-main/datasets/dalian_xinghaiwandaqiao_video_input_rgba/colmap_sparse/0/points3D.bin'\n",
    "\n",
    "# from scene.colmap_loader import read_points3D_binary\n",
    "\n",
    "# print('############# points3D.bin #############')\n",
    "# xyzs, rgbs, errors = read_points3D_binary(points3D_bin_dir)\n",
    "# # print(len(points3D_bin))\n",
    "# # print(points3D_bin[0].shape)\n",
    "# # print(points3D_bin[1].shape)\n",
    "# # print(points3D_bin[2].shape, points3D_bin[2])\n",
    "\n",
    "# print('############# cameras.bin #############')\n",
    "# from scene.colmap_loader import read_colmap_bin_array, read_extrinsics_binary, read_intrinsics_binary\n",
    "# cameras_bin = read_extrinsics_binary(images_bin_dir)\n",
    "# print(len(cameras_bin), type(cameras_bin), cameras_bin.keys())\n",
    "# print(cameras_bin[1].xys.shape)\n",
    "# # print(cameras_bin[0].keys())\n",
    "\n",
    "# print('############# images.bin #############')\n",
    "# # from scene.colmap_loader import read_images_binary\n",
    "# # images_bin = read_images_binary(images_bin_dir)\n",
    "# # print(len(images_bin))"
   ]
  },
  {
   "cell_type": "code",
   "execution_count": 3,
   "metadata": {},
   "outputs": [],
   "source": [
    "# # open3d展示point3d\n",
    "# import open3d as o3d\n",
    "# import numpy as np\n",
    "\n",
    "# # 读取colmap的bin文件\n",
    "# vis = o3d.visualization.Visualizer()\n",
    "# vis.create_window()\n",
    "\n",
    "# # 读取点云\n",
    "# pcd = o3d.geometry.PointCloud()\n",
    "# # xyzs, rgbs, errors = read_points3D_binary('/home/ubunto/Project/konglx/pcd/2dgs/2d-gaussian-splatting-main/data/scene_dense/sparse/0/points3D.bin')\n",
    "# pcd.points = o3d.utility.Vector3dVector(xyzs)\n",
    "# pcd.colors = o3d.utility.Vector3dVector(rgbs)\n",
    "# vis.add_geometry(pcd)\n",
    "\n",
    "# # 设置可视化选项\n",
    "# opt = vis.get_render_option()\n",
    "# # opt.show_coordinate_frame = True  # 显示坐标系\n",
    "# # opt.background_color = np.asarray([0, 0, 0])  # 设置背景颜色为黑色\n",
    "\n",
    "# # 设置点云中点的大小\n",
    "# opt.point_size = 2.0  # 可以根据需要调整点的大小\n",
    "# # # 读取相机参数\n",
    "# # cameras = read_intrinsics_binary('/home/ubunto/Project/konglx/pcd/2dgs/2d-gaussian-splatting-main/data/scene_dense/sparse/0/cameras.bin')\n",
    "# # camera_list = cameraList_from_camInfos(cameras)\n",
    "\n",
    "# # # 显示相机参数\n",
    "# # for i, camera in enumerate(camera_list):\n",
    "# #     camera_json = camera_to_JSON(camera)\n",
    "# #     print(camera_json)\n",
    "# #     vis.add_geometry(camera.get_open3d_camera_geometry())\n",
    "\n",
    "# # 显示点云\n",
    "# # 设置点的大小\n",
    "# # vis.point_size = 2\n",
    "\n",
    "# # 显示相机参数\n",
    "# vis.run()\n",
    "# vis.destroy_window()"
   ]
  },
  {
   "cell_type": "markdown",
   "metadata": {},
   "source": [
    "## 读取txt文件"
   ]
  },
  {
   "cell_type": "code",
   "execution_count": 4,
   "metadata": {},
   "outputs": [],
   "source": [
    "cameras_txt_dir = '/home/ubunto/Project/konglx/pcd/2dgs/2d-gaussian-splatting-main/datasets/dalian_xinghaiwandaqiao_video_input_rgba/colmap_text/cameras.txt'\n",
    "images_txt_dir = '/home/ubunto/Project/konglx/pcd/2dgs/2d-gaussian-splatting-main/datasets/dalian_xinghaiwandaqiao_video_input_rgba/colmap_text/images.txt'\n",
    "points3D_txt_dir = '/home/ubunto/Project/konglx/pcd/2dgs/2d-gaussian-splatting-main/datasets/dalian_xinghaiwandaqiao_video_input_rgba/colmap_text/points3D.txt'\n",
    "\n",
    "from scene.colmap_loader import read_points3D_text, read_intrinsics_text, read_extrinsics_text\n",
    "xyzs, rgbs, errors = read_points3D_text(points3D_txt_dir)\n",
    "cameras = read_intrinsics_text(cameras_txt_dir)\n",
    "images = read_extrinsics_text(images_txt_dir)\n",
    "# np.unique(images[1].point3D_ids).shape"
   ]
  },
  {
   "cell_type": "code",
   "execution_count": 5,
   "metadata": {},
   "outputs": [
    {
     "name": "stdout",
     "output_type": "stream",
     "text": [
      "dict_keys([1, 2, 3, 4, 5, 6, 7, 8, 9, 10, 11, 12, 13, 14, 15, 16, 17, 18, 19, 20, 21, 22, 23, 24, 25, 26, 27, 28, 29, 30, 31, 32, 33, 34, 35, 36, 37, 38, 39, 40, 41, 42, 43, 44, 45, 46, 47, 48, 49, 50, 51, 52, 53, 54, 55, 56, 57])\n"
     ]
    }
   ],
   "source": [
    "print(images.keys())\n",
    "# help(images[1])"
   ]
  },
  {
   "cell_type": "code",
   "execution_count": 6,
   "metadata": {},
   "outputs": [
    {
     "name": "stdout",
     "output_type": "stream",
     "text": [
      "Jupyter environment detected. Enabling Open3D WebVisualizer.\n",
      "[Open3D INFO] WebRTC GUI backend enabled.\n",
      "[Open3D INFO] WebRTCWindowSystem: HTTP handshake server disabled.\n"
     ]
    }
   ],
   "source": [
    "# open3d展示point3d\n",
    "import open3d as o3d\n",
    "import numpy as np\n",
    "\n",
    "# 读取colmap的bin文件\n",
    "vis = o3d.visualization.Visualizer()\n",
    "vis.create_window()\n",
    "\n",
    "# 读取点云\n",
    "pcd = o3d.geometry.PointCloud()\n",
    "# xyzs, rgbs, errors = read_points3D_binary('/home/ubunto/Project/konglx/pcd/2dgs/2d-gaussian-splatting-main/data/scene_dense/sparse/0/points3D.bin')\n",
    "pcd.points = o3d.utility.Vector3dVector(xyzs)\n",
    "pcd.colors = o3d.utility.Vector3dVector(rgbs)\n",
    "vis.add_geometry(pcd)\n",
    "\n",
    "# 设置可视化选项\n",
    "opt = vis.get_render_option()\n",
    "# opt.show_coordinate_frame = True  # 显示坐标系\n",
    "# opt.background_color = np.asarray([0, 0, 0])  # 设置背景颜色为黑色\n",
    "\n",
    "# 设置点云中点的大小\n",
    "opt.point_size = 2.0  # 可以根据需要调整点的大小\n",
    "# # 读取相机参数\n",
    "# cameras = read_intrinsics_binary('/home/ubunto/Project/konglx/pcd/2dgs/2d-gaussian-splatting-main/data/scene_dense/sparse/0/cameras.bin')\n",
    "# camera_list = cameraList_from_camInfos(cameras)\n",
    "\n",
    "# # 显示相机参数\n",
    "# for i, camera in enumerate(camera_list):\n",
    "#     camera_json = camera_to_JSON(camera)\n",
    "#     print(camera_json)\n",
    "#     vis.add_geometry(camera.get_open3d_camera_geometry())\n",
    "\n",
    "# 显示点云\n",
    "# 设置点的大小\n",
    "# vis.point_size = 2\n",
    "\n",
    "# 显示相机参数\n",
    "vis.run()\n",
    "vis.destroy_window()"
   ]
  },
  {
   "cell_type": "code",
   "execution_count": 7,
   "metadata": {},
   "outputs": [
    {
     "data": {
      "text/plain": [
       "((32813, 3), (32813, 3))"
      ]
     },
     "execution_count": 7,
     "metadata": {},
     "output_type": "execute_result"
    }
   ],
   "source": [
    "xyzs.shape, rgbs.shape"
   ]
  },
  {
   "cell_type": "markdown",
   "metadata": {},
   "source": [
    "### 创建适用于meshlab读取的‘x y z r g b’格式"
   ]
  },
  {
   "cell_type": "code",
   "execution_count": 8,
   "metadata": {},
   "outputs": [
    {
     "name": "stdout",
     "output_type": "stream",
     "text": [
      "saved to : txt_files/dalian_xinghaiwandaqiao_rgba/xyz_rgb.txt\n"
     ]
    }
   ],
   "source": [
    "def read_xyzs_and_rgbs_from_points3D_save_txt(xyzs, rgbs, save_dir = 'txt_files', file_name='xyz_rgb.txt'):\n",
    "    os.makedirs(save_dir, exist_ok=True)\n",
    "    with open(os.path.join(save_dir, file_name), 'w') as f:\n",
    "        for i in range(xyzs.shape[0]):\n",
    "            f.write('{} {} {} {} {} {}\\n'.format(xyzs[i, 0], xyzs[i, 1], xyzs[i, 2], int(rgbs[i, 0]), int(rgbs[i, 1]), int(rgbs[i, 2])))\n",
    "    print('saved to :', os.path.join(save_dir, file_name))\n",
    "read_xyzs_and_rgbs_from_points3D_save_txt(xyzs, rgbs, save_dir='txt_files/dalian_xinghaiwandaqiao_rgba', file_name='xyz_rgb.txt')"
   ]
  },
  {
   "cell_type": "markdown",
   "metadata": {},
   "source": [
    "## 读取transforms.json文件，提取相机的世界坐标系与外参(用于基于相机坐标，缩小点的范围)"
   ]
  },
  {
   "cell_type": "code",
   "execution_count": 9,
   "metadata": {},
   "outputs": [
    {
     "data": {
      "text/plain": [
       "(57, 3)"
      ]
     },
     "execution_count": 9,
     "metadata": {},
     "output_type": "execute_result"
    }
   ],
   "source": [
    "import json\n",
    "import numpy as np\n",
    "\n",
    "json_dir = '/home/ubunto/Project/konglx/pcd/2dgs/2d-gaussian-splatting-main/datasets/dalian_xinghaiwandaqiao_video_input_rgba/transforms.json'\n",
    "\n",
    "def get_world_coords_for_cam_centers(json_dir):# 读取json文件\n",
    "    with open(json_dir, 'r') as f:\n",
    "        data = json.load(f)\n",
    "\n",
    "    extrinsics_list = []\n",
    "    frames_data = data['frames']\n",
    "    for frame in frames_data:\n",
    "        R = np.array(frame['R'])\n",
    "        t = np.array(frame['t'])\n",
    "        # 转置 t 并调整为列向量（3x1），然后与 r 水平拼接\n",
    "        top = np.hstack([R, t.reshape(3, 1)])  # 3x4\n",
    "\n",
    "        # 创建最后一行 [0,0,0,1]\n",
    "        bottom = np.array([[0, 0, 0, 1]])\n",
    "\n",
    "        # 垂直拼接生成 4x4 矩阵\n",
    "        extrinsics = np.vstack([top, bottom])\n",
    "        extrinsics_list.append(extrinsics)\n",
    "    return np.asarray(extrinsics_list)\n",
    "\n",
    "\n",
    "extrinsics_camera = get_world_coords_for_cam_centers(json_dir=json_dir)\n",
    "R_cameras = extrinsics_camera[:, :3, :3]\n",
    "T_cameras = extrinsics_camera[:, :3, 3]\n",
    "camera_center_coords = -(R_cameras.transpose(0,2,1) @ T_cameras[..., np.newaxis]).squeeze(-1)  # 世界坐标系下深度为0的点, 即，中心点\n",
    "camera_center_coords.shape"
   ]
  },
  {
   "cell_type": "markdown",
   "metadata": {},
   "source": [
    "## 聚类方法处理"
   ]
  },
  {
   "cell_type": "markdown",
   "metadata": {},
   "source": [
    "### 1.DBSCAN"
   ]
  },
  {
   "cell_type": "code",
   "execution_count": 10,
   "metadata": {},
   "outputs": [
    {
     "name": "stdout",
     "output_type": "stream",
     "text": [
      "Estimated number of clusters: 840\n"
     ]
    }
   ],
   "source": [
    "# 对xyzs进行DBSCAN加噪点处理，并保存为ply文件\n",
    "\n",
    "import numpy as np\n",
    "import os\n",
    "import sys\n",
    "import open3d as o3d\n",
    "import matplotlib.pyplot as plt\n",
    "from sklearn.cluster import DBSCAN\n",
    "\n",
    "    # 读取ply文件\n",
    "def read_ply(filename):\n",
    "    pcd = o3d.io.read_point_cloud(filename)\n",
    "    return np.array(pcd.points)\n",
    "\n",
    "# 保存ply文件\n",
    "def save_ply(filename, points):\n",
    "    pcd = o3d.geometry.PointCloud()\n",
    "    pcd.points = o3d.utility.Vector3dVector(points)\n",
    "    o3d.io.write_point_cloud(filename, pcd)\n",
    "\n",
    "# 聚类过滤噪点\n",
    "def cluster_filter_DBSCAN(points, eps=0.05, min_samples=3):\n",
    "    db = DBSCAN(eps=eps, min_samples=min_samples).fit(points)\n",
    "    labels = db.labels_\n",
    "    unique_labels = set(labels)\n",
    "    n_clusters = len(unique_labels) - (1 if -1 in unique_labels else 0)\n",
    "    print('Estimated number of clusters: %d' % n_clusters)\n",
    "    point_DBSCAN = points[labels != -1]\n",
    "    return point_DBSCAN\n",
    "\n",
    "xyzs_DBSCAN = cluster_filter_DBSCAN(xyzs)\n"
   ]
  },
  {
   "cell_type": "code",
   "execution_count": 11,
   "metadata": {},
   "outputs": [
    {
     "data": {
      "text/plain": [
       "((20638, 3), (20638, 3), (20638,))"
      ]
     },
     "execution_count": 11,
     "metadata": {},
     "output_type": "execute_result"
    }
   ],
   "source": [
    "# 查看xyzs_DBSCAN在xyzs中的id\n",
    "# xyzs_DBSCAN\n",
    "# 构建元素到索引的字典\n",
    "def get_element_to_index(xyzs, rgbs, xyzs_selected) ->tuple[np.ndarray, np.ndarray]:\n",
    "    element_to_index = {tuple(row): idx for idx, row in enumerate(xyzs)}\n",
    "\n",
    "    # 生成数组c\n",
    "    ids = np.array([element_to_index[tuple(row)] for row in xyzs_selected])\n",
    "\n",
    "    # 输出c的shape\n",
    "    # print(\"c.shape =\", c.shape)\n",
    "    # print(\"c =\", c)  # 输出：c = [2 0 1]\n",
    "    rgbs_selected = np.array([rgbs[i] for i in ids])\n",
    "    # print(\"color_after_DBSCAN.shape =\", color_after_DBSCAN.shape)\n",
    "    return ids, rgbs_selected\n",
    "\n",
    "ids, rgbs_DBSCAN = get_element_to_index(xyzs, rgbs, xyzs_DBSCAN)\n",
    "\n",
    "rgbs_DBSCAN.shape, xyzs_DBSCAN.shape, ids.shape\n"
   ]
  },
  {
   "cell_type": "markdown",
   "metadata": {},
   "source": [
    "### 绘制点范围内的盒子"
   ]
  },
  {
   "cell_type": "code",
   "execution_count": 12,
   "metadata": {},
   "outputs": [],
   "source": [
    "# import open3d as o3d\n",
    "# import numpy as np\n",
    "\n",
    "# # 1. 生成示例点云数据（57个点，替换为实际数据）\n",
    "# points = np.random.rand(57, 3)  # 随机生成57个三维点\n",
    "\n",
    "# # 2. 计算各轴的最小值和最大值\n",
    "# min_vals = np.min(points, axis=0)\n",
    "# max_vals = np.max(points, axis=0)\n",
    "\n",
    "# # 3. 定义包围盒的八个顶点\n",
    "# min_x, min_y, min_z = min_vals\n",
    "# max_x, max_y, max_z = max_vals\n",
    "\n",
    "# vertices = np.array([\n",
    "#     [min_x, min_y, min_z],  # 底面左下前\n",
    "#     [max_x, min_y, min_z],  # 底面右下前\n",
    "#     [max_x, max_y, min_z],  # 底面右上前\n",
    "#     [min_x, max_y, min_z],  # 底面左上后\n",
    "#     [min_x, min_y, max_z],  # 顶面左下前\n",
    "#     [max_x, min_y, max_z],  # 顶面右下前\n",
    "#     [max_x, max_y, max_z],  # 顶面右上前\n",
    "#     [min_x, max_y, max_z],  # 顶面左上后\n",
    "# ])\n",
    "\n",
    "# # 4. 定义包围盒的边（连接顶点索引）\n",
    "# lines = [\n",
    "#     [0,1], [1,2], [2,3], [3,0],  # 底面\n",
    "#     [4,5], [5,6], [6,7], [7,4],  # 顶面\n",
    "#     [0,4], [1,5], [2,6], [3,7],  # 侧面\n",
    "# ]\n",
    "\n",
    "# # 5. 创建线框模型并设置颜色\n",
    "# line_set = o3d.geometry.LineSet(\n",
    "#     points=o3d.utility.Vector3dVector(vertices),\n",
    "#     lines=o3d.utility.Vector2iVector(lines),\n",
    "# )\n",
    "# line_set.paint_uniform_color([1, 0, 0])  # 红色包围盒\n",
    "\n",
    "# # 6. 创建点云对象\n",
    "# pcd = o3d.geometry.PointCloud()\n",
    "# pcd.points = o3d.utility.Vector3dVector(points)\n",
    "\n",
    "# # 7. 可视化展示\n",
    "# o3d.visualization.draw_geometries([pcd, line_set])"
   ]
  },
  {
   "cell_type": "markdown",
   "metadata": {},
   "source": [
    "### 去除某些点形成的立方体框外的点，open3d可视化\n",
    "\n",
    "例如：点a的shape为（60,3），b的shape为（57,3），如何基于b的点云的矩形的范围内，保留b和a的点，去除a在b范围外的点，计算并通过open3d展示，去除的点用蓝色表示，保留的点用红色表示，同时绘制保留范围内的立方体边框"
   ]
  },
  {
   "cell_type": "code",
   "execution_count": 13,
   "metadata": {},
   "outputs": [],
   "source": [
    "# import numpy as np\n",
    "# import open3d as o3d\n",
    "\n",
    "# # 生成示例数据（假设a和b已存在，此处用随机数据代替）\n",
    "# np.random.seed(42)\n",
    "# a = np.random.rand(60, 3)\n",
    "# b = np.random.rand(57, 3)\n",
    "\n",
    "# # 计算b的轴对齐包围盒范围\n",
    "# min_vals = np.min(b, axis=0)\n",
    "# max_vals = np.max(b, axis=0)\n",
    "# min_x, min_y, min_z = min_vals\n",
    "# max_x, max_y, max_z = max_vals\n",
    "\n",
    "# # 过滤a的点：保留范围内的点，移除范围外的点\n",
    "# mask_a = (\n",
    "#     (a[:, 0] >= min_x) & (a[:, 0] <= max_x) &\n",
    "#     (a[:, 1] >= min_y) & (a[:, 1] <= max_y) &\n",
    "#     (a[:, 2] >= min_z) & (a[:, 2] <= max_z)\n",
    "# )\n",
    "# a_inside = a[mask_a]    # a中的保留点\n",
    "# a_outside = a[~mask_a]  # a中的移除点\n",
    "\n",
    "# # b的所有点均会被保留（因为包围盒由b生成）\n",
    "# b_inside = b  # b中所有点均在包围盒内\n",
    "\n",
    "# # 合并保留的点（红色）和移除的点（蓝色）\n",
    "# combined_inside = np.vstack([a_inside, b_inside])  # 保留的点\n",
    "# red_colors = np.tile([1, 0, 0], (combined_inside.shape[0], 1))  # 红色：保留点\n",
    "# blue_colors = np.tile([0, 0, 1], (a_outside.shape[0], 1))        # 蓝色：移除点\n",
    "\n",
    "# # 创建点云对象并设置颜色\n",
    "# pcd_inside = o3d.geometry.PointCloud()\n",
    "# pcd_inside.points = o3d.utility.Vector3dVector(combined_inside)\n",
    "# pcd_inside.colors = o3d.utility.Vector3dVector(red_colors)\n",
    "\n",
    "# pcd_outside = o3d.geometry.PointCloud()\n",
    "# pcd_outside.points = o3d.utility.Vector3dVector(a_outside)\n",
    "# pcd_outside.colors = o3d.utility.Vector3dVector(blue_colors)\n",
    "\n",
    "# # 创建包围盒线框模型\n",
    "# vertices = np.array([\n",
    "#     [min_x, min_y, min_z], [max_x, min_y, min_z],\n",
    "#     [max_x, max_y, min_z], [min_x, max_y, min_z],\n",
    "#     [min_x, min_y, max_z], [max_x, min_y, max_z],\n",
    "#     [max_x, max_y, max_z], [min_x, max_y, max_z]\n",
    "# ])\n",
    "# lines = [[0,1], [1,2], [2,3], [3,0], [4,5], [5,6], [6,7], [7,4], [0,4], [1,5], [2,6], [3,7]]\n",
    "# line_set = o3d.geometry.LineSet(\n",
    "#     points=o3d.utility.Vector3dVector(vertices),\n",
    "#     lines=o3d.utility.Vector2iVector(lines)\n",
    "# )\n",
    "# line_set.paint_uniform_color([0, 1, 0])  # 绿色包围盒边框\n",
    "\n",
    "# # 可视化展示\n",
    "# o3d.visualization.draw_geometries([pcd_inside, pcd_outside, line_set])"
   ]
  },
  {
   "cell_type": "code",
   "execution_count": 14,
   "metadata": {},
   "outputs": [],
   "source": [
    "def keep_and_remove_points_red_blue(a, b, a_org_rgb=None):\n",
    "    '''\n",
    "    a为所有点，b为相机坐标点，a_org_rgb为原始点云的rgb值，需要基于去除a噪点后，重新排布a的rgb颜色\n",
    "    '''\n",
    "    # 计算b的轴对齐包围盒范围\n",
    "    min_vals = np.min(b, axis=0)\n",
    "    max_vals = np.max(b, axis=0)\n",
    "    min_x, min_y, min_z = min_vals\n",
    "    max_x, max_y, max_z = max_vals\n",
    "    \n",
    "    min_xyz = np.min(min_vals)\n",
    "    max_xyz = np.max(max_vals)\n",
    "\n",
    "    # 过滤a的点：保留范围内的点，移除范围外的点\n",
    "    # mask_a = (\n",
    "    #     (a[:, 0] >= min_x) & (a[:, 0] <= max_x) &\n",
    "    #     (a[:, 1] >= min_y) & (a[:, 1] <= max_y) &\n",
    "    #     (a[:, 2] >= min_z) & (a[:, 2] <= max_z)\n",
    "    # )\n",
    "    mask_a = (\n",
    "        (a[:, 0] >= min_xyz) & (a[:, 0] <= max_xyz) &\n",
    "        (a[:, 1] >= min_xyz) & (a[:, 1] <= max_xyz) &\n",
    "        (a[:, 2] >= min_xyz) & (a[:, 2] <= max_xyz)\n",
    "    )\n",
    "    a_inside = a[mask_a]    # a中的保留点\n",
    "    a_outside = a[~mask_a]  # a中的移除点\n",
    "\n",
    "    # b的所有点均会被保留（因为包围盒由b生成）\n",
    "    b_inside = b  # b中所有点均在包围盒内\n",
    "\n",
    "    # 合并保留的点（红色）和移除的点（蓝色）\n",
    "    combined_inside = np.vstack([a_inside, b_inside])  # 保留的点\n",
    "    red_colors = np.tile([1, 0, 0], (combined_inside.shape[0], 1))  # 红色：保留点\n",
    "    blue_colors = np.tile([0, 0, 1], (a_outside.shape[0], 1))        # 蓝色：移除点\n",
    "\n",
    "    # 创建点云对象并设置颜色\n",
    "    pcd_inside = o3d.geometry.PointCloud()\n",
    "    pcd_inside.points = o3d.utility.Vector3dVector(combined_inside)\n",
    "    pcd_inside.colors = o3d.utility.Vector3dVector(red_colors)\n",
    "\n",
    "    pcd_outside = o3d.geometry.PointCloud()\n",
    "    pcd_outside.points = o3d.utility.Vector3dVector(a_outside)\n",
    "    pcd_outside.colors = o3d.utility.Vector3dVector(blue_colors)\n",
    "\n",
    "    # 创建包围盒线框模型\n",
    "    # vertices = np.array([\n",
    "    #     [min_x, min_y, min_z], [max_x, min_y, min_z],\n",
    "    #     [max_x, max_y, min_z], [min_x, max_y, min_z],\n",
    "    #     [min_x, min_y, max_z], [max_x, min_y, max_z],\n",
    "    #     [max_x, max_y, max_z], [min_x, max_y, max_z]\n",
    "    # ])\n",
    "    vertices = np.array([\n",
    "        [min_xyz, min_xyz, min_xyz], [max_xyz, min_xyz, min_xyz],\n",
    "        [max_xyz, max_xyz, min_xyz], [min_xyz, max_xyz, min_xyz],\n",
    "        [min_xyz, min_xyz, max_xyz], [max_xyz, min_xyz, max_xyz],\n",
    "        [max_xyz, max_xyz, max_xyz], [min_xyz, max_xyz, max_xyz]\n",
    "    ])\n",
    "    lines = [[0,1], [1,2], [2,3], [3,0], [4,5], [5,6], [6,7], [7,4], [0,4], [1,5], [2,6], [3,7]]\n",
    "    line_set = o3d.geometry.LineSet(\n",
    "        points=o3d.utility.Vector3dVector(vertices),\n",
    "        lines=o3d.utility.Vector2iVector(lines)\n",
    "    )\n",
    "    line_set.paint_uniform_color([0, 1, 0])  # 绿色包围盒边框\n",
    "\n",
    "    # 可视化展示\n",
    "    o3d.visualization.draw_geometries([pcd_inside, pcd_outside, line_set])"
   ]
  },
  {
   "cell_type": "markdown",
   "metadata": {},
   "source": [
    "#### 用此可视化，保存xyzrgb的txt，可用meshlab打开查看"
   ]
  },
  {
   "cell_type": "code",
   "execution_count": 64,
   "metadata": {},
   "outputs": [],
   "source": [
    "def keep_and_remove_points_org_green(a, b, a_org_rgb=None, save_dir = None, file_name=None):\n",
    "    '''\n",
    "    a为所有点，b为相机坐标点，a_org_rgb为原始点云的rgb值，需要基于去除a噪点后，重新排布a的rgb颜色\n",
    "    '''\n",
    "    # 计算b的轴对齐包围盒范围\n",
    "    min_vals = np.min(b, axis=0)\n",
    "    max_vals = np.max(b, axis=0)\n",
    "    min_x, min_y, min_z = min_vals\n",
    "    max_x, max_y, max_z = max_vals\n",
    "    \n",
    "    min_xyz = np.min(min_vals)\n",
    "    max_xyz = np.max(max_vals)\n",
    "    print('min_xyz:', min_xyz,'max_xyz:', max_xyz)\n",
    "\n",
    "    # 过滤a的点：保留范围内的点，移除范围外的点\n",
    "    # mask_a = (\n",
    "    #     (a[:, 0] >= min_x) & (a[:, 0] <= max_x) &\n",
    "    #     (a[:, 1] >= min_y) & (a[:, 1] <= max_y) &\n",
    "    #     (a[:, 2] >= min_z) & (a[:, 2] <= max_z)\n",
    "    # )\n",
    "    mask_a = (\n",
    "        (a[:, 0] >= min_xyz) & (a[:, 0] <= max_xyz) &\n",
    "        (a[:, 1] >= min_xyz) & (a[:, 1] <= max_xyz) &\n",
    "        (a[:, 2] >= min_xyz) & (a[:, 2] <= max_xyz)\n",
    "    )\n",
    "    a_inside = a[mask_a]    # a中的保留点\n",
    "    a_outside = a[~mask_a]  # a中的移除点\n",
    "\n",
    "    # b的所有点均会被保留（因为包围盒由b生成）\n",
    "    b_inside = b  # b中所有点均在包围盒内\n",
    "\n",
    "    ids, a_rgbs_selected = get_element_to_index(a, a_org_rgb, a_inside)\n",
    "    # 合并保留的点（红色）和移除的点（蓝色）\n",
    "    combined_inside = np.vstack([a_inside, b_inside])  # 保留的点\n",
    "    # print('combined_inside.shape:', combined_inside.shape)\n",
    "\n",
    "    # print('a_org_rgb.shape:', a_org_rgb.shape)\n",
    "    # red_colors = np.tile([1, 0, 0], (combined_inside.shape[0], 1))  # 红色：保留点\n",
    "    org_colors = a_org_rgb[ids]  # 原始点云的rgb值\n",
    "    # print('org_colors.shape:', org_colors.shape)\n",
    "    \n",
    "    magenta_colors = np.tile([255, 0, 255], (b_inside.shape[0], 1))\n",
    "    combined_inside_colors = np.vstack([org_colors, magenta_colors])  # 合并的点的rgb值\n",
    "    blue_colors = np.tile([0, 128, 0], (a_outside.shape[0], 1))        # 蓝色：移除点\n",
    "\n",
    "    # 创建点云对象并设置颜色\n",
    "    pcd_inside = o3d.geometry.PointCloud()\n",
    "    pcd_inside.points = o3d.utility.Vector3dVector(combined_inside)\n",
    "    pcd_inside.colors = o3d.utility.Vector3dVector(combined_inside_colors)\n",
    "\n",
    "    pcd_outside = o3d.geometry.PointCloud()\n",
    "    pcd_outside.points = o3d.utility.Vector3dVector(a_outside)\n",
    "    pcd_outside.colors = o3d.utility.Vector3dVector(blue_colors)\n",
    "\n",
    "    point_all = np.vstack([combined_inside, a_outside])\n",
    "    color_all = np.vstack([combined_inside_colors, blue_colors])\n",
    "    \n",
    "    point_selected = a_inside\n",
    "    color_selected = a_rgbs_selected\n",
    "    # 创建包围盒线框模型\n",
    "    # vertices = np.array([\n",
    "    #     [min_x, min_y, min_z], [max_x, min_y, min_z],\n",
    "    #     [max_x, max_y, min_z], [min_x, max_y, min_z],\n",
    "    #     [min_x, min_y, max_z], [max_x, min_y, max_z],\n",
    "    #     [max_x, max_y, max_z], [min_x, max_y, max_z]\n",
    "    # ])\n",
    "    vertices = np.array([\n",
    "        [min_xyz, min_xyz, min_xyz], [max_xyz, min_xyz, min_xyz],\n",
    "        [max_xyz, max_xyz, min_xyz], [min_xyz, max_xyz, min_xyz],\n",
    "        [min_xyz, min_xyz, max_xyz], [max_xyz, min_xyz, max_xyz],\n",
    "        [max_xyz, max_xyz, max_xyz], [min_xyz, max_xyz, max_xyz]\n",
    "    ])\n",
    "    lines = [[0,1], [1,2], [2,3], [3,0], [4,5], [5,6], [6,7], [7,4], [0,4], [1,5], [2,6], [3,7]]\n",
    "    line_set = o3d.geometry.LineSet(\n",
    "        points=o3d.utility.Vector3dVector(vertices),\n",
    "        lines=o3d.utility.Vector2iVector(lines)\n",
    "    )\n",
    "    line_set.paint_uniform_color([0, 1, 0])  # 绿色包围盒边框\n",
    "\n",
    "    # 可视化展示\n",
    "    o3d.visualization.draw_geometries([pcd_inside, pcd_outside, line_set])\n",
    "    \n",
    "    # 是否存储\n",
    "    if save_dir and file_name is not None:\n",
    "        # 展示用\n",
    "        read_xyzs_and_rgbs_from_points3D_save_txt(combined_inside, combined_inside_colors, save_dir=save_dir, file_name=file_name)\n",
    "        # open3d存储[pcd_inside, pcd_outside, line_set]\n",
    "        read_xyzs_and_rgbs_from_points3D_save_txt(point_all, color_all, save_dir=save_dir, file_name=file_name.split('.')[0]+'_all.txt')\n",
    "        # o3d.io.write_point_cloud(os.path.join(save_dir, file_name.split('.')[0]+'.ply'), pcd_all)\n",
    "        read_xyzs_and_rgbs_from_points3D_save_txt(point_selected, color_selected, save_dir=save_dir, file_name=file_name.split('.')[0]+'_selected.txt')\n",
    "    else:\n",
    "        print('Not save the txt file.')\n",
    "    \n",
    "    return point_selected, color_selected, min_xyz, max_xyz, vertices"
   ]
  },
  {
   "cell_type": "code",
   "execution_count": 16,
   "metadata": {},
   "outputs": [
    {
     "name": "stdout",
     "output_type": "stream",
     "text": [
      "camera_center_coords_min: [-4.10362082 -1.31347824 -2.49081145]\n",
      "camera_center_coords_max: [7.28490811 0.71831237 3.70567352]\n",
      "camera_center_coords_range: [11.38852893  2.0317906   6.19648497]\n"
     ]
    }
   ],
   "source": [
    "camera_center_coords_min = np.min(camera_center_coords, axis=0)\n",
    "camera_center_coords_max = np.max(camera_center_coords, axis=0)\n",
    "\n",
    "print('camera_center_coords_min:', camera_center_coords_min)\n",
    "print('camera_center_coords_max:', camera_center_coords_max)\n",
    "\n",
    "camera_center_coords_range = camera_center_coords_max - camera_center_coords_min\n",
    "print('camera_center_coords_range:', camera_center_coords_range)\n",
    "# camera_center_coords_min = np.array([camera_center_coords_min_x, camera_center_coords_min_y, camera_center_coords_min_z])\n",
    "# camera_center_coords_max = np.array([camera_center_coords_max_x, camera_center_coords_max_y, camera_center_coords_max_z])\n",
    "# camera_center_coords_range = camera_center_coords_max - camera_center_coords_min\n",
    "# camera_center_coords_center = (camera_center_coords_min + camera_center_coords_max) / 2\n",
    "# camera_center_coords_scale = np.max(camera_center_coords_range) / 2\n",
    "\n",
    "\n",
    "\n",
    "# camera_center_coords_scaled = (camera_center_coords - camera_center_coords_center) / camera_center_coords_scale"
   ]
  },
  {
   "cell_type": "code",
   "execution_count": 17,
   "metadata": {},
   "outputs": [
    {
     "data": {
      "text/plain": [
       "((57, 3), dtype('float64'))"
      ]
     },
     "execution_count": 17,
     "metadata": {},
     "output_type": "execute_result"
    }
   ],
   "source": [
    "camera_center_colors = np.zeros_like(camera_center_coords)\n",
    "camera_center_colors[:, 0] = 255\n",
    "camera_center_colors[:, 2] = 255\n",
    "camera_center_colors.shape, camera_center_coords.dtype"
   ]
  },
  {
   "cell_type": "code",
   "execution_count": 18,
   "metadata": {},
   "outputs": [],
   "source": [
    "xyzs_DBSCAN_and_camera_np = np.vstack((xyzs_DBSCAN, camera_center_coords))\n",
    "\n",
    "rgbs_DBSCAN_and_camera_np = np.vstack((rgbs_DBSCAN, camera_center_colors))"
   ]
  },
  {
   "cell_type": "code",
   "execution_count": 19,
   "metadata": {},
   "outputs": [],
   "source": [
    "keep_and_remove_points_red_blue(xyzs_DBSCAN_and_camera_np, camera_center_coords)"
   ]
  },
  {
   "cell_type": "code",
   "execution_count": 20,
   "metadata": {},
   "outputs": [
    {
     "data": {
      "text/plain": [
       "(20695, 3)"
      ]
     },
     "execution_count": 20,
     "metadata": {},
     "output_type": "execute_result"
    }
   ],
   "source": [
    "rgbs_DBSCAN_and_camera_np.shape"
   ]
  },
  {
   "cell_type": "code",
   "execution_count": 21,
   "metadata": {},
   "outputs": [
    {
     "data": {
      "text/plain": [
       "(32813, 3)"
      ]
     },
     "execution_count": 21,
     "metadata": {},
     "output_type": "execute_result"
    }
   ],
   "source": [
    "xyzs.shape"
   ]
  },
  {
   "cell_type": "code",
   "execution_count": 22,
   "metadata": {},
   "outputs": [
    {
     "name": "stdout",
     "output_type": "stream",
     "text": [
      "saved to : txt_files/dalian_xinghaiwandaqiao_rgba/camera_box_selected_xyz_rgb.txt\n",
      "saved to : txt_files/dalian_xinghaiwandaqiao_rgba/camera_box_selected_xyz_rgb_all.txt\n",
      "saved to : txt_files/dalian_xinghaiwandaqiao_rgba/camera_box_selected_xyz_rgb_selected.txt\n"
     ]
    },
    {
     "data": {
      "text/plain": [
       "(array([[ 3.62995062, -0.02252059,  3.06446425],\n",
       "        [ 3.62994211, -0.02274007,  3.06458739],\n",
       "        [ 2.37401084, -0.77017059,  2.94881781],\n",
       "        ...,\n",
       "        [-2.43795071, -1.1708971 ,  0.2117487 ],\n",
       "        [-1.60679546, -1.20579731, -0.62960969],\n",
       "        [-0.64704114, -1.24732114, -1.33711112]]),\n",
       " array([[113., 111.,  99.],\n",
       "        [113., 111.,  99.],\n",
       "        [ 35.,  24.,  15.],\n",
       "        ...,\n",
       "        [255.,   0., 255.],\n",
       "        [255.,   0., 255.],\n",
       "        [255.,   0., 255.]]))"
      ]
     },
     "execution_count": 22,
     "metadata": {},
     "output_type": "execute_result"
    }
   ],
   "source": [
    "# 展示用，显示相机点和其他点\n",
    "save_dir = 'txt_files/dalian_xinghaiwandaqiao_rgba'\n",
    "file_name = 'camera_box_selected_xyz_rgb.txt'\n",
    "keep_and_remove_points_org_green(xyzs_DBSCAN_and_camera_np, camera_center_coords, a_org_rgb=rgbs_DBSCAN_and_camera_np,\\\n",
    "    save_dir=save_dir, file_name=file_name)\n",
    "\n",
    "# keep_and_remove_points_org_green(xyzs_DBSCAN_and_camera_np, camera_center_coords, a_org_rgb=rgbs_DBSCAN_and_camera_np)"
   ]
  },
  {
   "cell_type": "code",
   "execution_count": 65,
   "metadata": {},
   "outputs": [
    {
     "name": "stdout",
     "output_type": "stream",
     "text": [
      "min_xyz: -4.103620823414447 max_xyz: 7.284908106456511\n",
      "Not save the txt file.\n"
     ]
    }
   ],
   "source": [
    "# 训练用，不显示相机点，只显示其他点\n",
    "save_dir = 'txt_files/dalian_xinghaiwandaqiao_rgba'\n",
    "file_name = 'camera_box_selected_xyz_rgb_no_camera_points.txt'\n",
    "# point_clustered_boxed, color_clustered_boxed = keep_and_remove_points_org_green(xyzs_DBSCAN, camera_center_coords, a_org_rgb=rgbs_DBSCAN,\\\n",
    "#     save_dir=save_dir, file_name=file_name)\n",
    "point_clustered_boxed, color_clustered_boxed, min_xyz, max_xyz, vertices = keep_and_remove_points_org_green(xyzs_DBSCAN, camera_center_coords, a_org_rgb=rgbs_DBSCAN,\\\n",
    "    )"
   ]
  },
  {
   "cell_type": "code",
   "execution_count": 66,
   "metadata": {},
   "outputs": [
    {
     "data": {
      "text/plain": [
       "array([[-4.10362082, -4.10362082, -4.10362082],\n",
       "       [ 7.28490811, -4.10362082, -4.10362082],\n",
       "       [ 7.28490811,  7.28490811, -4.10362082],\n",
       "       [-4.10362082,  7.28490811, -4.10362082],\n",
       "       [-4.10362082, -4.10362082,  7.28490811],\n",
       "       [ 7.28490811, -4.10362082,  7.28490811],\n",
       "       [ 7.28490811,  7.28490811,  7.28490811],\n",
       "       [-4.10362082,  7.28490811,  7.28490811]])"
      ]
     },
     "execution_count": 66,
     "metadata": {},
     "output_type": "execute_result"
    }
   ],
   "source": [
    "vertices"
   ]
  },
  {
   "cell_type": "code",
   "execution_count": 24,
   "metadata": {},
   "outputs": [
    {
     "data": {
      "text/plain": [
       "((17071, 3), (17071, 3))"
      ]
     },
     "execution_count": 24,
     "metadata": {},
     "output_type": "execute_result"
    }
   ],
   "source": [
    "point_clustered_boxed.shape, color_clustered_boxed.shape"
   ]
  },
  {
   "cell_type": "code",
   "execution_count": 25,
   "metadata": {},
   "outputs": [
    {
     "data": {
      "text/plain": [
       "(numpy.float64, 3.6299421063381954, '-0.022740072352157296')"
      ]
     },
     "execution_count": 25,
     "metadata": {},
     "output_type": "execute_result"
    }
   ],
   "source": [
    "type(point_clustered_boxed[1][0]), point_clustered_boxed[1][0], str(point_clustered_boxed[1][1])"
   ]
  },
  {
   "cell_type": "code",
   "execution_count": null,
   "metadata": {},
   "outputs": [],
   "source": []
  },
  {
   "cell_type": "code",
   "execution_count": 26,
   "metadata": {},
   "outputs": [
    {
     "name": "stdout",
     "output_type": "stream",
     "text": [
      "saved to : txt_files/dalian_xinghaiwandaqiao_rgba/xyz_rgb_DBSCAN_and_camera.txt\n"
     ]
    }
   ],
   "source": [
    "\n",
    "read_xyzs_and_rgbs_from_points3D_save_txt(xyzs_DBSCAN_and_camera_np, rgbs_DBSCAN_and_camera_np, save_dir='txt_files/dalian_xinghaiwandaqiao_rgba',\\\n",
    "    file_name='xyz_rgb_DBSCAN_and_camera.txt')"
   ]
  },
  {
   "cell_type": "code",
   "execution_count": 27,
   "metadata": {},
   "outputs": [],
   "source": [
    "# open3d展示xyzs_DBSCAN和rgbs_DBSCAN\n",
    "\n",
    "import open3d as o3d\n",
    "import numpy as np\n",
    "import matplotlib.pyplot as plt\n",
    "import os\n",
    "\n",
    "vis_DBSCAN_and_camera = o3d.visualization.Visualizer()\n",
    "vis_DBSCAN_and_camera.create_window()\n",
    "\n",
    "\n",
    "# 读取点云\n",
    "pcd_DBSCAN_and_camera = o3d.geometry.PointCloud()\n",
    "# xyzs, rgbs, errors = read_points3D_binary('/home/ubunto/Project/konglx/vis_DBSCAN_and_camera/2dgs/2d-gaussian-splatting-main/data/scene_dense/sparse/0/points3D.bin')\n",
    "pcd_DBSCAN_and_camera.points = o3d.utility.Vector3dVector(xyzs_DBSCAN_and_camera_np)\n",
    "pcd_DBSCAN_and_camera.colors = o3d.utility.Vector3dVector(rgbs_DBSCAN_and_camera_np)\n",
    "vis_DBSCAN_and_camera.add_geometry(pcd_DBSCAN_and_camera)\n",
    "\n",
    "# 设置可视化选项\n",
    "opt_DBSCAN_and_camera = vis_DBSCAN_and_camera.get_render_option()\n",
    "# opt.show_coordinate_frame = True  # 显示坐标系\n",
    "# opt.background_color = np.asarray([0, 0, 0])  # 设置背景颜色为黑色\n",
    "\n",
    "# 设置点云中点的大小\n",
    "opt_DBSCAN_and_camera.point_size = 2.0  # 可以根据需要调整点的大小\n",
    "# # 读取相机参数\n",
    "# cameras = read_intrinsics_binary('/home/ubunto/Project/konglx/vis_DBSCAN_and_camera/2dgs/2d-gaussian-splatting-main/data/scene_dense/sparse/0/cameras.bin')\n",
    "# camera_list = cameraList_from_camInfos(cameras)\n",
    "\n",
    "# # 显示相机参数\n",
    "# for i, camera in enumerate(camera_list):\n",
    "#     camera_json = camera_to_JSON(camera)\n",
    "#     print(camera_json)\n",
    "#     vis.add_geometry(camera.get_open3d_camera_geometry())\n",
    "\n",
    "# 显示点云\n",
    "# 设置点的大小\n",
    "# vis.point_size = 2\n",
    "\n",
    "# 显示相机参数\n",
    "vis_DBSCAN_and_camera.run()\n",
    "vis_DBSCAN_and_camera.destroy_window()"
   ]
  },
  {
   "cell_type": "code",
   "execution_count": 28,
   "metadata": {},
   "outputs": [
    {
     "data": {
      "text/plain": [
       "(20695, 3)"
      ]
     },
     "execution_count": 28,
     "metadata": {},
     "output_type": "execute_result"
    }
   ],
   "source": [
    "xyzs_DBSCAN_and_camera_np.shape"
   ]
  },
  {
   "cell_type": "code",
   "execution_count": null,
   "metadata": {},
   "outputs": [],
   "source": []
  },
  {
   "cell_type": "code",
   "execution_count": 29,
   "metadata": {},
   "outputs": [
    {
     "data": {
      "text/plain": [
       "((20638, 3), array([    1,     2,     3, ..., 32809, 32811, 32812]))"
      ]
     },
     "execution_count": 29,
     "metadata": {},
     "output_type": "execute_result"
    }
   ],
   "source": [
    "xyzs[ids].shape, ids"
   ]
  },
  {
   "cell_type": "code",
   "execution_count": 30,
   "metadata": {},
   "outputs": [
    {
     "data": {
      "text/plain": [
       "array([ 1,  2,  3,  4,  5,  6,  7,  8,  9, 19, 11, 12, 13, 14, 15, 16, 17,\n",
       "       18, 19, 20])"
      ]
     },
     "execution_count": 30,
     "metadata": {},
     "output_type": "execute_result"
    }
   ],
   "source": [
    "# for i in ids.tolist():\n",
    "#     print(i)\n",
    "ids[:20]"
   ]
  },
  {
   "cell_type": "code",
   "execution_count": 31,
   "metadata": {},
   "outputs": [
    {
     "data": {
      "text/plain": [
       "20638"
      ]
     },
     "execution_count": 31,
     "metadata": {},
     "output_type": "execute_result"
    }
   ],
   "source": [
    "len(ids)"
   ]
  },
  {
   "cell_type": "code",
   "execution_count": 32,
   "metadata": {},
   "outputs": [
    {
     "name": "stdout",
     "output_type": "stream",
     "text": [
      "selected and saved\n"
     ]
    }
   ],
   "source": [
    "points3D_txt_dir = '/home/ubunto/Project/konglx/pcd/2dgs/2d-gaussian-splatting-main/datasets/dalian_xinghaiwandaqiao_video_input_rgba_txt_file_cluster/colmap_text/points3D.txt'\n",
    "save_dir = '/home/ubunto/Project/konglx/pcd/2dgs/2d-gaussian-splatting-main/datasets/dalian_xinghaiwandaqiao_video_input_rgba_txt_file_cluster/colmap_text/points3D_select.txt'\n",
    "def read_points3d_txt_select_as_ids_to_new_points3d_txt(points3D_txt_dir, ids):\n",
    "    with open(points3D_txt_dir, 'r') as f:\n",
    "        f_list = f.readlines()\n",
    "        f_new_list = []\n",
    "        # f_new_list_compared = []\n",
    "        for id in ids.tolist():\n",
    "            f_new_list.append(f_list[id+2])\n",
    "            # f_new_list_compared.append(f'{id} {f_list[id+2]}')\n",
    "    return f_new_list#, f_new_list_compared\n",
    "# 将f_new_list写入新的txt文件\n",
    "f_new_list = read_points3d_txt_select_as_ids_to_new_points3d_txt(points3D_txt_dir, ids)\n",
    "\n",
    "with open(save_dir, 'w') as f_new:\n",
    "    f_new.write(''.join(f_new_list))\n",
    "    \n",
    "# with open(save_dir.replace('.txt', '_compared.txt'), 'w') as f_new_compared:\n",
    "#     f_new_compared.write(''.join(f_new_list_compared))\n",
    "    \n",
    "print('selected and saved')\n"
   ]
  },
  {
   "cell_type": "code",
   "execution_count": 48,
   "metadata": {},
   "outputs": [],
   "source": [
    "boxed_point_dir = '/home/ubunto/Project/konglx/pcd/2dgs/2d-gaussian-splatting-main/txt_files/dalian_xinghaiwandaqiao_rgba/camera_box_selected_xyz_rgb_no_camera_points_selected.txt'\n",
    "\n",
    "\n",
    "with open(boxed_point_dir, 'r') as f1:\n",
    "    f_lists = f1.readlines()\n",
    "\n",
    "# final_points3D_list = []\n",
    "# for f_list in f_lists:\n",
    "#     # f_list_selected = f_list.strip()[:-12]\n",
    "#     f_list = f_list.strip()\n",
    "#     f_list = f_list.split(' ')\n",
    "#     f_list_selected = f'{f_list[-3]} {f_list[-2]} {f_list[-1]}'\n",
    "#     # f_list_selected_0 = f'{f_list[0][:5]}'\n",
    "#     # f_list_selected_1 = f'{f_list[1][:6]}'\n",
    "#     # f_list_selected_2 = f'{f_list[2][:6]}'\n",
    "    \n",
    "#     for f_new in f_new_list:\n",
    "#         # if f_list_selected_0 in f_new:\n",
    "#         if f_list_selected in f_new:\n",
    "#             final_points3D_list.append(f_new)\n",
    "    \n"
   ]
  },
  {
   "cell_type": "code",
   "execution_count": 56,
   "metadata": {},
   "outputs": [],
   "source": [
    "\n",
    "\n",
    "final_points3D_list = []\n",
    "for point in point_clustered_boxed.tolist():\n",
    "\n",
    "    f_list_selected_0 = str(point[0])[:7]\n",
    "    f_list_selected_1 = point[1]\n",
    "    f_list_selected_2 = point[2]\n",
    "    \n",
    "    for f_new in f_new_list:\n",
    "        if f_list_selected_0 in f_new:\n",
    "            final_points3D_list.append(f_new)"
   ]
  },
  {
   "cell_type": "code",
   "execution_count": 57,
   "metadata": {},
   "outputs": [
    {
     "data": {
      "text/plain": [
       "(17195, 12852)"
      ]
     },
     "execution_count": 57,
     "metadata": {},
     "output_type": "execute_result"
    }
   ],
   "source": [
    "len(final_points3D_list), len(set(final_points3D_list))"
   ]
  },
  {
   "cell_type": "code",
   "execution_count": 58,
   "metadata": {},
   "outputs": [
    {
     "data": {
      "text/plain": [
       "(17195, 17071, 20638)"
      ]
     },
     "execution_count": 58,
     "metadata": {},
     "output_type": "execute_result"
    }
   ],
   "source": [
    "len(final_points3D_list), len(f_lists), len(f_new_list)"
   ]
  },
  {
   "cell_type": "code",
   "execution_count": 60,
   "metadata": {},
   "outputs": [],
   "source": [
    "final_points3D_set_list = list(set(final_points3D_list))\n",
    "final_points3D_save_dir = '/home/ubunto/Project/konglx/pcd/2dgs/2d-gaussian-splatting-main/txt_files/dalian_xinghaiwandaqiao_rgba/points3D_select.txt'\n",
    "# 存储最终的点云\n",
    "with open(final_points3D_save_dir, 'w') as f:\n",
    "    for point in final_points3D_set_list:\n",
    "        f.write(point)\n",
    "\n",
    "# final_points3D_set_list[0]"
   ]
  },
  {
   "cell_type": "code",
   "execution_count": 58,
   "metadata": {},
   "outputs": [
    {
     "data": {
      "text/plain": [
       "20638"
      ]
     },
     "execution_count": 58,
     "metadata": {},
     "output_type": "execute_result"
    }
   ],
   "source": [
    "len(f_new_list)"
   ]
  },
  {
   "cell_type": "code",
   "execution_count": 9,
   "metadata": {},
   "outputs": [
    {
     "data": {
      "text/plain": [
       "True"
      ]
     },
     "execution_count": 9,
     "metadata": {},
     "output_type": "execute_result"
    }
   ],
   "source": [
    "# '1' in lines[0]"
   ]
  },
  {
   "cell_type": "code",
   "execution_count": 14,
   "metadata": {},
   "outputs": [],
   "source": [
    "# open3d展示xyzs_DBSCAN和rgbs_after_DBSCAN\n",
    "\n",
    "import numpy as np\n",
    "import open3d as o3d\n",
    "import matplotlib.pyplot as plt\n",
    "import os\n",
    "\n",
    "\n",
    "# 读取colmap的bin文件\n",
    "vis_DBSCAN = o3d.visualization.Visualizer()\n",
    "vis_DBSCAN.create_window()\n",
    "\n",
    "# 读取点云\n",
    "pcd_DBSCAN = o3d.geometry.PointCloud()\n",
    "# xyzs, rgbs, errors = read_points3D_binary('/home/ubunto/Project/konglx/pcd/2dgs/2d-gaussian-splatting-main/data/scene_dense/sparse/0/points3D.bin')\n",
    "pcd_DBSCAN.points = o3d.utility.Vector3dVector(xyzs_DBSCAN)\n",
    "pcd_DBSCAN.colors = o3d.utility.Vector3dVector(rgbs_DBSCAN)\n",
    "vis_DBSCAN.add_geometry(pcd_DBSCAN)\n",
    "\n",
    "# 设置可视化选项\n",
    "opt_DBSCAN = vis_DBSCAN.get_render_option()\n",
    "# opt.show_coordinate_frame = True  # 显示坐标系\n",
    "# opt.background_color = np.asarray([0, 0, 0])  # 设置背景颜色为黑色\n",
    "\n",
    "# 设置点云中点的大小\n",
    "opt_DBSCAN.point_size = 2.0  # 可以根据需要调整点的大小\n",
    "# # 读取相机参数\n",
    "# cameras = read_intrinsics_binary('/home/ubunto/Project/konglx/pcd/2dgs/2d-gaussian-splatting-main/data/scene_dense/sparse/0/cameras.bin')\n",
    "# camera_list = cameraList_from_camInfos(cameras)\n",
    "\n",
    "# # 显示相机参数\n",
    "# for i, camera in enumerate(camera_list):\n",
    "#     camera_json = camera_to_JSON(camera)\n",
    "#     print(camera_json)\n",
    "#     vis.add_geometry(camera.get_open3d_camera_geometry())\n",
    "\n",
    "# 显示点云\n",
    "# 设置点的大小\n",
    "# vis.point_size = 2\n",
    "\n",
    "# 显示相机参数\n",
    "vis_DBSCAN.run()\n",
    "vis_DBSCAN.destroy_window()\n"
   ]
  },
  {
   "cell_type": "code",
   "execution_count": 18,
   "metadata": {},
   "outputs": [],
   "source": [
    "save_dir = 'txt_files'\n",
    "save_demo_dir = os.path.join(save_dir, 'dalian_xinghaiwandaqiao_rgba')\n",
    "os.makedirs(save_demo_dir, exist_ok=True)\n",
    "\n",
    "with open(os.path.join(save_demo_dir, 'xyz_rgb_DBSCAN.txt'), 'w') as f:\n",
    "    for i in range(xyzs_DBSCAN.shape[0]):\n",
    "        f.write('{} {} {} {} {} {}\\n'.format(xyzs_DBSCAN[i, 0], xyzs_DBSCAN[i, 1], xyzs_DBSCAN[i, 2], int(rgbs_DBSCAN[i, 0]), int(rgbs_DBSCAN[i, 1]), int(rgbs_DBSCAN[i, 2])))"
   ]
  },
  {
   "cell_type": "markdown",
   "metadata": {},
   "source": [
    "### 2.OPTICS"
   ]
  },
  {
   "cell_type": "markdown",
   "metadata": {},
   "source": [
    "### 3.HDBSCAN"
   ]
  },
  {
   "cell_type": "markdown",
   "metadata": {},
   "source": [
    "### 4.高斯混合模型"
   ]
  }
 ],
 "metadata": {
  "kernelspec": {
   "display_name": "3dgs_new",
   "language": "python",
   "name": "python3"
  },
  "language_info": {
   "codemirror_mode": {
    "name": "ipython",
    "version": 3
   },
   "file_extension": ".py",
   "mimetype": "text/x-python",
   "name": "python",
   "nbconvert_exporter": "python",
   "pygments_lexer": "ipython3",
   "version": "3.9.0"
  }
 },
 "nbformat": 4,
 "nbformat_minor": 2
}
