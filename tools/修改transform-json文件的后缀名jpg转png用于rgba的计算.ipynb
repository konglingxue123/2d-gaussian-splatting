{
 "cells": [
  {
   "cell_type": "code",
   "execution_count": 1,
   "metadata": {},
   "outputs": [
    {
     "name": "stdout",
     "output_type": "stream",
     "text": [
      "原始json文件另存为 /home/ubunto/Project/konglx/pcd/2dgs/2d-gaussian-splatting-main/datasets/dalian_xinghaiwandaqiao_video_input_rgba/transforms_org.json\n",
      "修改完成\n"
     ]
    }
   ],
   "source": [
    "import os\n",
    "import json\n",
    "# # \n",
    "# json_dir = '/home/ubunto/Project/konglx/pcd/2dgs/2d-gaussian-splatting-main/datasets/beijing_baigeqiao_video_input_to_rgba/transforms.json'\n",
    "# json_dir = '/home/ubunto/Project/konglx/pcd/2dgs/2d-gaussian-splatting-main/datasets/beijing_baigeqiao_video_input_to_rgb_to_rgba/transforms.json'\n",
    "json_dir = '/home/ubunto/Project/konglx/pcd/2dgs/2d-gaussian-splatting-main/datasets/dalian_xinghaiwandaqiao_video_input_rgba/transforms.json'\n",
    "# 读取json文件\n",
    "with open(json_dir, 'r') as f:\n",
    "    data = json.load(f)\n",
    "\n",
    "# 另存json文件\n",
    "new_json_dir = json_dir.replace('.json', '_org.json')\n",
    "with open(new_json_dir, 'w') as f:\n",
    "    json.dump(data, f, indent=4)\n",
    "    print('原始json文件另存为', new_json_dir)\n",
    "\n",
    "# # 修改后缀名\n",
    "for frame in  data['frames']:\n",
    "    frame['file_path'] = frame['file_path'].replace('.jpg', '.png')\n",
    "\n",
    "# 保存修改后的json文件\n",
    "with open(json_dir, 'w') as f:\n",
    "    json.dump(data, f, indent=4)\n",
    "    print('修改完成')\n",
    "    \n",
    "# 另存json文件\n",
    "# new_json_dir = json_dir.replace('.json', '_new.json')\n",
    "# with open(new_json_dir, 'w') as f:\n",
    "#     json.dump(data, f, indent=4)\n",
    "#     print('另存为', new_json_dir)\n",
    "    "
   ]
  }
 ],
 "metadata": {
  "kernelspec": {
   "display_name": "3dgs_new",
   "language": "python",
   "name": "python3"
  },
  "language_info": {
   "codemirror_mode": {
    "name": "ipython",
    "version": 3
   },
   "file_extension": ".py",
   "mimetype": "text/x-python",
   "name": "python",
   "nbconvert_exporter": "python",
   "pygments_lexer": "ipython3",
   "version": "3.9.0"
  }
 },
 "nbformat": 4,
 "nbformat_minor": 2
}
