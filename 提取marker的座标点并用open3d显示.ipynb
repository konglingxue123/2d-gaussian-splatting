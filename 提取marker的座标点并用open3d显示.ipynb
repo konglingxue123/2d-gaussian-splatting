{
 "cells": [
  {
   "cell_type": "code",
   "execution_count": 9,
   "metadata": {},
   "outputs": [],
   "source": [
    "import numpy as np\n",
    "import cv2\n",
    "import matplotlib.pyplot as plt\n",
    "import open3d as o3d\n",
    "import os\n",
    "import sys\n",
    "\n",
    "a,b,c,d =  [0.91785764, 1.54344418, 5.15748007], \\\n",
    "           [0.9958691 , 1.53299923, 4.91475091], \\\n",
    "           [0.9228009 , 1.79894896, 5.15487844], \\\n",
    "           [1.00319548, 1.78943029, 4.9116984 ]\n",
    "           \n",
    "# 在open3d空间中绘制abcd四个点\n",
    "pcd = o3d.geometry.PointCloud()\n",
    "pcd.points = o3d.utility.Vector3dVector(np.array([a,b,c,d]))\n",
    "# pcd.points = o3d.utility.Vector3dVector(np.array([a,b]))\n",
    "o3d.visualization.draw_geometries([pcd])"
   ]
  },
  {
   "cell_type": "code",
   "execution_count": 18,
   "metadata": {},
   "outputs": [
    {
     "name": "stdout",
     "output_type": "stream",
     "text": [
      "[[1.33295657 1.07347353 4.37686977]\n",
      " [1.33430732 1.07343609 4.37502854]\n",
      " [1.33576978 1.07340905 4.3732375 ]\n",
      " ...\n",
      " [0.9958691  1.53299923 4.91475091]\n",
      " [0.9228009  1.79894896 5.15487844]\n",
      " [1.00319548 1.78943029 4.9116984 ]] <class 'numpy.ndarray'>\n"
     ]
    }
   ],
   "source": [
    "# 读取npy文件\n",
    "import numpy as np\n",
    "\n",
    "npy_dir = '/home/ubunto/Project/konglx/pcd/2dgs/2d-gaussian-splatting-main/output/dalian_xinghaiwandaqiao_rgb/hit_points_img_id=0032_makers.npy'\n",
    "\n",
    "npy_read_marker = np.load(npy_dir)\n",
    "# 在open3d空间中绘制abcd四个点\n",
    "pcd_defects = o3d.geometry.PointCloud()\n",
    "pcd_defects.points = o3d.utility.Vector3dVector(npy_read_marker)\n",
    "# pcd.points = o3d.utility.Vector3dVector(np.array([a,b]))\n",
    "o3d.visualization.draw_geometries([pcd_defects])\n",
    "print(npy_read_marker, type(npy_read_marker))"
   ]
  },
  {
   "cell_type": "code",
   "execution_count": 10,
   "metadata": {},
   "outputs": [
    {
     "name": "stdout",
     "output_type": "stream",
     "text": [
      "d1 =  0.25517117430737124\n",
      "d2 =  0.36569037156672035\n",
      "d3 =  0.25630143375403613\n",
      "d4 =  0.35805074890280614\n"
     ]
    }
   ],
   "source": [
    "# 计算3D点的距离\n",
    "import numpy as np\n",
    "import cv2\n",
    "import matplotlib.pyplot as plt\n",
    "\n",
    "p1 =npy_read_marker[-4]\n",
    "p2 =npy_read_marker[-3]\n",
    "p3 =npy_read_marker[-2]\n",
    "p4 =npy_read_marker[-1]\n",
    "\n",
    "# 定义函数，计算3D点的距离\n",
    "def distance(point1, point2):\n",
    "    return np.sqrt((point1[0]-point2[0])**2 + (point1[1]-point2[1])**2 + (point1[2]-point2[2])**2)\n",
    "\n",
    "d1 = distance(p1, p2)\n",
    "d2 = distance(p2, p3)\n",
    "d3 = distance(p3, p4)\n",
    "d4 = distance(p4, p1)\n",
    "\n",
    "print(\"d1 = \", d1)\n",
    "print(\"d2 = \", d2)\n",
    "print(\"d3 = \", d3)\n",
    "print(\"d4 = \", d4)"
   ]
  },
  {
   "cell_type": "code",
   "execution_count": 1,
   "metadata": {},
   "outputs": [
    {
     "name": "stdout",
     "output_type": "stream",
     "text": [
      "Jupyter environment detected. Enabling Open3D WebVisualizer.\n",
      "[Open3D INFO] WebRTC GUI backend enabled.\n",
      "[Open3D INFO] WebRTCWindowSystem: HTTP handshake server disabled.\n",
      "dict_keys(['all_points_list:', 'all_colors_list:', 'only_defects_cls_length:'])\n",
      "only_defects_cls_length: {38: 526, 75: 11852}\n"
     ]
    }
   ],
   "source": [
    "# hit_points_colors_img_id=0032_makers.npy读取并open3d显示\n",
    "import numpy as np\n",
    "import cv2\n",
    "import matplotlib.pyplot as plt\n",
    "import os\n",
    "import sys\n",
    "import open3d as o3d\n",
    "\n",
    "# 读取npy文件\n",
    "npy_file_dir = '/home/ubunto/Project/konglx/pcd/2dgs/2d-gaussian-splatting-main/output/dalian_xinghaiwandaqiao_rgb/hit_points_colors_img_id=0032_makers.npy'\n",
    "\n",
    "npy_reader = np.load(npy_file_dir, allow_pickle=True)\n",
    "npy_dict = npy_reader.tolist()\n",
    "print(npy_dict.keys())\n",
    "points = npy_dict['all_points_list:']\n",
    "colors = npy_dict['all_colors_list:']\n",
    "cls_num = npy_dict['only_defects_cls_length:']\n",
    "print('only_defects_cls_length:', cls_num )\n",
    "\n",
    "# # 在open3d空间中绘制abcd四个点\n",
    "pcd_points_colors = o3d.geometry.PointCloud()\n",
    "pcd_points_colors.points = o3d.utility.Vector3dVector(points)\n",
    "pcd_points_colors.colors = o3d.utility.Vector3dVector(colors)\n",
    "# pcd.points = o3d.utility.Vector3dVector(np.array([a,b]))\n",
    "# 显示坐标轴\n",
    "o3d.visualization.draw_geometries([pcd_points_colors, o3d.geometry.TriangleMesh.create_coordinate_frame(size=0.5, origin=[0, 0, 0])])\n",
    "# o3d.visualization.draw_geometries([pcd_points_colors])\n",
    "# print(npy_read_marker, type(npy_read_marker))"
   ]
  },
  {
   "cell_type": "code",
   "execution_count": 10,
   "metadata": {},
   "outputs": [
    {
     "name": "stdout",
     "output_type": "stream",
     "text": [
      "dict_keys(['all_points_list:', 'all_colors_list:', 'only_defects_cls_length:'])\n",
      "only_defects_cls_length: {38: 526, 75: 11852}\n"
     ]
    }
   ],
   "source": [
    "# hit_points_colors_img_id=0032_makers.npy读取并open3d显示\n",
    "import numpy as np\n",
    "import cv2\n",
    "import matplotlib.pyplot as plt\n",
    "import os\n",
    "import sys\n",
    "import open3d as o3d\n",
    "\n",
    "# 读取npy文件\n",
    "npy_file_dir = '/home/ubunto/Project/konglx/pcd/2dgs/2d-gaussian-splatting-main/output/dalian_xinghaiwandaqiao_rgb/hit_points_colors_img_id=0032_makers.npy'\n",
    "\n",
    "npy_reader = np.load(npy_file_dir, allow_pickle=True)\n",
    "npy_dict = npy_reader.tolist()\n",
    "print(npy_dict.keys())\n",
    "points = npy_dict['all_points_list:']\n",
    "colors = npy_dict['all_colors_list:']\n",
    "cls_num = npy_dict['only_defects_cls_length:']\n",
    "print('only_defects_cls_length:', cls_num )\n",
    "\n",
    "# # 在open3d空间中绘制abcd四个点\n",
    "pcd_points_colors = o3d.geometry.PointCloud()\n",
    "pcd_points_colors.points = o3d.utility.Vector3dVector(points[:526])\n",
    "pcd_points_colors.colors = o3d.utility.Vector3dVector(colors[:526])\n",
    "# pcd.points = o3d.utility.Vector3dVector(np.array([a,b]))\n",
    "# 显示坐标轴\n",
    "o3d.visualization.draw_geometries([pcd_points_colors, o3d.geometry.TriangleMesh.create_coordinate_frame(size=0.5, origin=[0, 0, 0])])"
   ]
  },
  {
   "cell_type": "code",
   "execution_count": 8,
   "metadata": {},
   "outputs": [],
   "source": [
    "# https://blog.51cto.com/u_16213413/12959424 \n",
    "# 提取3d点骨架\n",
    "\n",
    "# 导入必要的库\n",
    "import open3d as o3d\n",
    "import numpy as np\n",
    "\n",
    "# 加载点云数据\n",
    "def load_point_cloud(file_path):\n",
    "    pcd = o3d.io.read_point_cloud(file_path)\n",
    "    return pcd\n",
    "\n",
    "# 可视化点云\n",
    "def visualize_point_cloud(pcd):\n",
    "    o3d.visualization.draw_geometries([pcd])\n",
    "\n",
    "# 主程序\n",
    "if __name__ == \"__main__\":\n",
    "    # pcd = load_point_cloud(\"path/to/your/pointcloud.pcd\")\n",
    "    visualize_point_cloud(pcd_points_colors)"
   ]
  },
  {
   "cell_type": "code",
   "execution_count": 9,
   "metadata": {},
   "outputs": [],
   "source": [
    "from sklearn.decomposition import PCA\n",
    "from sklearn.cluster import DBSCAN\n",
    "\n",
    "# 点云骨架提取函数\n",
    "def skeleton_extraction(pcd):\n",
    "    points = np.asarray(pcd.points)\n",
    "\n",
    "    # 使用DBSCAN进行聚类\n",
    "    clustering = DBSCAN(eps=0.05, min_samples=10).fit(points)\n",
    "\n",
    "    # 提取聚类中心作为骨架\n",
    "    unique_labels = set(clustering.labels_)\n",
    "    skeletal_points = []\n",
    "\n",
    "    for label in unique_labels:\n",
    "        if label == -1:  # 噪声点\n",
    "            continue\n",
    "        cluster_points = points[clustering.labels_ == label]\n",
    "        pca = PCA(n_components=1)\n",
    "        pca.fit(cluster_points)\n",
    "        skeletal_points.append(pca.mean_)\n",
    "\n",
    "    return np.array(skeletal_points)\n",
    "\n",
    "# 主程序\n",
    "if __name__ == \"__main__\":\n",
    "    # pcd = load_point_cloud(\"path/to/your/pointcloud.pcd\")\n",
    "    skeletal_points = skeleton_extraction(pcd_points_colors)\n",
    "\n",
    "    # 可视化骨架\n",
    "    skeletal_pcd = o3d.geometry.PointCloud()\n",
    "    skeletal_pcd.points = o3d.utility.Vector3dVector(skeletal_points)\n",
    "    visualize_point_cloud(skeletal_pcd)"
   ]
  }
 ],
 "metadata": {
  "kernelspec": {
   "display_name": "3dgs_new",
   "language": "python",
   "name": "python3"
  },
  "language_info": {
   "codemirror_mode": {
    "name": "ipython",
    "version": 3
   },
   "file_extension": ".py",
   "mimetype": "text/x-python",
   "name": "python",
   "nbconvert_exporter": "python",
   "pygments_lexer": "ipython3",
   "version": "3.9.0"
  }
 },
 "nbformat": 4,
 "nbformat_minor": 2
}
